{
 "cells": [
  {
   "cell_type": "markdown",
   "metadata": {},
   "source": [
    "INTRODUÇÃO\n",
    "Explicar objetivo do trabalho\n",
    "Apresentar banco de dados\n",
    "Definição de Target e Feature\n",
    "\n",
    "MINERAÇÃO DE DADOS\n",
    "Limpeza do dataset"
   ]
  },
  {
   "cell_type": "code",
   "execution_count": null,
   "metadata": {},
   "outputs": [],
   "source": [
    "# Código da mineração de dados"
   ]
  },
  {
   "cell_type": "markdown",
   "metadata": {},
   "source": [
    "CARACTERÍSTICAS DO DATASET FINAL\n",
    "Descrever cada coluna e categorias (se houver) das colunas escolhidas para serem mantidas e usadas no dataset\n",
    "\n",
    "TECNOLOGIAS USADAS\n",
    "Bibliotecas e funções utilizadas para a manutenção e elaboração dos estudos sobre o dataset\n",
    "\n",
    "MODELO DE PREDIÇÃO - TREINAMENTO\n"
   ]
  },
  {
   "cell_type": "code",
   "execution_count": null,
   "metadata": {},
   "cell_type": "markdown",
   "metadata": {},
   "source": [
    "CARACTERÍSTICAS DO DATASET FINAL\n",
    "Descrever cada coluna e categorias (se houver) das colunas escolhidas para serem mantidas e usadas no dataset\n",
    "\n",
    "TECNOLOGIAS USADAS\n",
    "Bibliotecas e funções utilizadas para a manutenção e elaboração dos estudos sobre o dataset\n",
    "\n",
    "MODELO DE PREDIÇÃO - TREINAMENTO\n"
   ]
  },
  {
   "cell_type": "code",
   "execution_count": null,
   "metadata": {},
   "outputs": [],
   "source": [
    "# código do modelo de treinamento"
   ]
  },
  {
   "cell_type": "markdown",
   "metadata": {},
   "source": [
    "MODELO DE PREDIÇÃO - RESULTADOS"
   ]
  },
  {
   "cell_type": "code",
   "execution_count": null,
   "metadata": {},
   "outputs": [],
   "source": [
    "# código do modelo sendo aplicado no teste"
   ]
  },
  {
   "cell_type": "markdown",
   "metadata": {},
   "source": [
    "VALIDAÇÃO DOS RESULTADOS"
   ]
  },
  {
   "cell_type": "code",
   "execution_count": null,
   "metadata": {},
   "outputs": [],
   "source": [
    "# código de validação de resultados "
   ]
  }
 ],
 "metadata": {
  "kernelspec": {
   "display_name": "Python 3.9.1 64-bit",
   "language": "python",
   "name": "python3"
  },
  "language_info": {
   "codemirror_mode": {
    "name": "ipython",
    "version": 3
   },
   "file_extension": ".py",
   "mimetype": "text/x-python",
   "name": "python",
   "nbconvert_exporter": "python",
   "pygments_lexer": "ipython3",
   "version": "3.9.1"
  },
  "orig_nbformat": 4,
  "vscode": {
   "interpreter": {
    "hash": "3e6ea82390109ad9763c69fd4fc23411e60ede4e938533269ee8d2fcac4aa075"
   }
  }
 },
 "nbformat": 4,
 "nbformat_minor": 2
}
