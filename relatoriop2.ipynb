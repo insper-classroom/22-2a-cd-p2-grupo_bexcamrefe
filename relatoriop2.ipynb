{
 "cells": [
  {
   "cell_type": "markdown",
   "metadata": {},
   "source": [
    "INTRODUÇÃO\n",
    "Explicar objetivo do trabalho\n",
    "Apresentar banco de dados\n",
    "Definição de Target e Feature\n",
    "\n",
    "MINERAÇÃO DE DADOS\n",
    "Limpeza do dataset"
   ]
  },
  {
   "cell_type": "code",
   "execution_count": null,
   "metadata": {},
   "outputs": [],
   "source": [
    "# Código da mineração de dados"
   ]
  },
  {
   "cell_type": "markdown",
   "metadata": {},
   "source": [
    "CARACTERÍSTICAS DO DATASET FINAL\n",
    "Descrever cada coluna e categorias (se houver) das colunas escolhidas para serem mantidas e usadas no dataset\n",
    "\n",
    "TECNOLOGIAS USADAS\n",
    "Bibliotecas e funções utilizadas para a manutenção e elaboração dos estudos sobre o dataset\n",
    "\n",
    "MODELO DE PREDIÇÃO - TREINAMENTO\n"
   ]
  },
  {
   "cell_type": "code",
   "execution_count": null,
   "metadata": {},
   "outputs": [],
   "source": [
    "# código do modelo de treinamento"
   ]
  },
  {
   "cell_type": "markdown",
   "metadata": {},
   "source": [
    "MODELO DE PREDIÇÃO - RESULTADOS"
   ]
  },
  {
   "cell_type": "code",
   "execution_count": null,
   "metadata": {},
   "outputs": [],
   "source": [
    "# código do modelo sendo aplicado no teste"
   ]
  },
  {
   "cell_type": "markdown",
   "metadata": {},
   "source": [
    "VALIDAÇÃO DOS RESULTADOS"
   ]
  },
  {
   "cell_type": "code",
   "execution_count": null,
   "metadata": {},
   "outputs": [],
   "source": [
    "# código de validação de resultados "
   ]
  }
 ],
 "metadata": {
  "language_info": {
   "name": "python"
  },
  "orig_nbformat": 4
 },
 "nbformat": 4,
 "nbformat_minor": 2
}
