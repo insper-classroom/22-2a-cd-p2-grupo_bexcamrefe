{
 "cells": [
  {
   "cell_type": "code",
   "execution_count": 2,
   "metadata": {},
   "outputs": [
    {
     "name": "stdout",
     "output_type": "stream",
     "text": [
      "Esperamos trabalhar no diretório\n",
      "c:\\Users\\bebec\\OneDrive\\Área de Trabalho\\INSPER\\CDADOS\\CD22-2\\Projeto2\\22-2a-cd-p2-grupo_bexcamrefe\n"
     ]
    }
   ],
   "source": [
    "import pandas as pd\n",
    "import matplotlib.pyplot as plt\n",
    "import numpy as np\n",
    "import os\n",
    "\n",
    "print('Esperamos trabalhar no diretório')\n",
    "print(os.getcwd())\n",
    "\n"
   ]
  },
  {
   "cell_type": "markdown",
   "metadata": {},
   "source": [
    "INTRODUÇÃO\n",
    "Explicar objetivo do trabalho\n",
    "Apresentar banco de dados\n",
    "Definição de Target e Feature\n",
    "\n",
    "Prever: A probabilidade de um voo americano em Janeiro vai ser cancelado.\n",
    "Pergunta: Qual a probabilidade do meu voo ser cancelado de acordo com a sua cia aéra?\n",
    "\n",
    "MINERAÇÃO DE DADOS\n",
    "Limpeza do dataset"
   ]
  },
  {
   "cell_type": "code",
   "execution_count": 3,
   "metadata": {},
   "outputs": [
    {
     "data": {
      "text/html": [
       "<div>\n",
       "<style scoped>\n",
       "    .dataframe tbody tr th:only-of-type {\n",
       "        vertical-align: middle;\n",
       "    }\n",
       "\n",
       "    .dataframe tbody tr th {\n",
       "        vertical-align: top;\n",
       "    }\n",
       "\n",
       "    .dataframe thead th {\n",
       "        text-align: right;\n",
       "    }\n",
       "</style>\n",
       "<table border=\"1\" class=\"dataframe\">\n",
       "  <thead>\n",
       "    <tr style=\"text-align: right;\">\n",
       "      <th></th>\n",
       "      <th>OP_CARRIER</th>\n",
       "      <th>ORIGIN</th>\n",
       "      <th>DEST</th>\n",
       "      <th>ARR_DEL15</th>\n",
       "      <th>CANCELLED</th>\n",
       "      <th>DISTANCE</th>\n",
       "      <th>Ano</th>\n",
       "    </tr>\n",
       "  </thead>\n",
       "  <tbody>\n",
       "    <tr>\n",
       "      <th>0</th>\n",
       "      <td>9E</td>\n",
       "      <td>GNV</td>\n",
       "      <td>ATL</td>\n",
       "      <td>0.0</td>\n",
       "      <td>0.0</td>\n",
       "      <td>300.0</td>\n",
       "      <td>2019</td>\n",
       "    </tr>\n",
       "    <tr>\n",
       "      <th>1</th>\n",
       "      <td>9E</td>\n",
       "      <td>MSP</td>\n",
       "      <td>CVG</td>\n",
       "      <td>0.0</td>\n",
       "      <td>0.0</td>\n",
       "      <td>596.0</td>\n",
       "      <td>2019</td>\n",
       "    </tr>\n",
       "    <tr>\n",
       "      <th>2</th>\n",
       "      <td>9E</td>\n",
       "      <td>DTW</td>\n",
       "      <td>CVG</td>\n",
       "      <td>0.0</td>\n",
       "      <td>0.0</td>\n",
       "      <td>229.0</td>\n",
       "      <td>2019</td>\n",
       "    </tr>\n",
       "    <tr>\n",
       "      <th>3</th>\n",
       "      <td>9E</td>\n",
       "      <td>TLH</td>\n",
       "      <td>ATL</td>\n",
       "      <td>0.0</td>\n",
       "      <td>0.0</td>\n",
       "      <td>223.0</td>\n",
       "      <td>2019</td>\n",
       "    </tr>\n",
       "    <tr>\n",
       "      <th>4</th>\n",
       "      <td>9E</td>\n",
       "      <td>ATL</td>\n",
       "      <td>FSM</td>\n",
       "      <td>0.0</td>\n",
       "      <td>0.0</td>\n",
       "      <td>579.0</td>\n",
       "      <td>2019</td>\n",
       "    </tr>\n",
       "  </tbody>\n",
       "</table>\n",
       "</div>"
      ],
      "text/plain": [
       "  OP_CARRIER ORIGIN DEST  ARR_DEL15  CANCELLED  DISTANCE   Ano\n",
       "0         9E    GNV  ATL        0.0        0.0     300.0  2019\n",
       "1         9E    MSP  CVG        0.0        0.0     596.0  2019\n",
       "2         9E    DTW  CVG        0.0        0.0     229.0  2019\n",
       "3         9E    TLH  ATL        0.0        0.0     223.0  2019\n",
       "4         9E    ATL  FSM        0.0        0.0     579.0  2019"
      ]
     },
     "execution_count": 3,
     "metadata": {},
     "output_type": "execute_result"
    }
   ],
   "source": [
    "dados_2019 = pd.read_csv('Jan_2019_ontime.csv')\n",
    "# manter: OP_CARRIER, ORIGIN, DESTINATION, CANCELLED, DIVERTED, DISTANCE\n",
    "dados_2019.head(5)\n",
    "\n",
    "Novos_dados_2019 = dados_2019.loc[:,['OP_CARRIER','ORIGIN', 'DEST','ARR_DEL15','CANCELLED','DISTANCE']]\n",
    "Novos_dados_2019[\"Ano\"]=\"2019\"\n",
    "Novos_dados_2019.head()"
   ]
  },
  {
   "cell_type": "code",
   "execution_count": 4,
   "metadata": {},
   "outputs": [
    {
     "data": {
      "text/html": [
       "<div>\n",
       "<style scoped>\n",
       "    .dataframe tbody tr th:only-of-type {\n",
       "        vertical-align: middle;\n",
       "    }\n",
       "\n",
       "    .dataframe tbody tr th {\n",
       "        vertical-align: top;\n",
       "    }\n",
       "\n",
       "    .dataframe thead th {\n",
       "        text-align: right;\n",
       "    }\n",
       "</style>\n",
       "<table border=\"1\" class=\"dataframe\">\n",
       "  <thead>\n",
       "    <tr style=\"text-align: right;\">\n",
       "      <th></th>\n",
       "      <th>OP_CARRIER</th>\n",
       "      <th>ORIGIN</th>\n",
       "      <th>DEST</th>\n",
       "      <th>ARR_DEL15</th>\n",
       "      <th>CANCELLED</th>\n",
       "      <th>DISTANCE</th>\n",
       "      <th>Ano</th>\n",
       "    </tr>\n",
       "  </thead>\n",
       "  <tbody>\n",
       "    <tr>\n",
       "      <th>0</th>\n",
       "      <td>EV</td>\n",
       "      <td>ORD</td>\n",
       "      <td>GRB</td>\n",
       "      <td>0.0</td>\n",
       "      <td>0.0</td>\n",
       "      <td>174.0</td>\n",
       "      <td>2020</td>\n",
       "    </tr>\n",
       "    <tr>\n",
       "      <th>1</th>\n",
       "      <td>EV</td>\n",
       "      <td>TUL</td>\n",
       "      <td>ORD</td>\n",
       "      <td>0.0</td>\n",
       "      <td>0.0</td>\n",
       "      <td>585.0</td>\n",
       "      <td>2020</td>\n",
       "    </tr>\n",
       "    <tr>\n",
       "      <th>2</th>\n",
       "      <td>EV</td>\n",
       "      <td>EWR</td>\n",
       "      <td>TYS</td>\n",
       "      <td>0.0</td>\n",
       "      <td>0.0</td>\n",
       "      <td>631.0</td>\n",
       "      <td>2020</td>\n",
       "    </tr>\n",
       "    <tr>\n",
       "      <th>3</th>\n",
       "      <td>EV</td>\n",
       "      <td>BTR</td>\n",
       "      <td>IAH</td>\n",
       "      <td>0.0</td>\n",
       "      <td>0.0</td>\n",
       "      <td>253.0</td>\n",
       "      <td>2020</td>\n",
       "    </tr>\n",
       "    <tr>\n",
       "      <th>4</th>\n",
       "      <td>EV</td>\n",
       "      <td>RIC</td>\n",
       "      <td>IAH</td>\n",
       "      <td>0.0</td>\n",
       "      <td>0.0</td>\n",
       "      <td>1157.0</td>\n",
       "      <td>2020</td>\n",
       "    </tr>\n",
       "  </tbody>\n",
       "</table>\n",
       "</div>"
      ],
      "text/plain": [
       "  OP_CARRIER ORIGIN DEST  ARR_DEL15  CANCELLED  DISTANCE   Ano\n",
       "0         EV    ORD  GRB        0.0        0.0     174.0  2020\n",
       "1         EV    TUL  ORD        0.0        0.0     585.0  2020\n",
       "2         EV    EWR  TYS        0.0        0.0     631.0  2020\n",
       "3         EV    BTR  IAH        0.0        0.0     253.0  2020\n",
       "4         EV    RIC  IAH        0.0        0.0    1157.0  2020"
      ]
     },
     "execution_count": 4,
     "metadata": {},
     "output_type": "execute_result"
    }
   ],
   "source": [
    "dados_2020 = pd.read_csv('Jan_2020_ontime.csv')\n",
    "# manter: OP_CARRIER, ORIGIN, DESTINATION, CANCELLED, DIVERTED, DISTANCE\n",
    "dados_2020.head(5)\n",
    "\n",
    "Novos_dados_2020 = dados_2020.loc[:,['OP_CARRIER','ORIGIN', 'DEST','ARR_DEL15','CANCELLED','DISTANCE']]\n",
    "Novos_dados_2020[\"Ano\"]=\"2020\"\n",
    "Novos_dados_2020.head()"
   ]
  },
  {
   "cell_type": "code",
   "execution_count": 5,
   "metadata": {},
   "outputs": [],
   "source": [
    "Dados_gerais = pd.merge(Novos_dados_2020 , Novos_dados_2019, how = 'outer') \n",
    "\n",
    "Treinamento = Dados_gerais.sample(frac = 0.7)\n",
    "\n",
    "Teste = Dados_gerais.drop(Treinamento.index)\n",
    "\n",
    "Treinamento['OP_CARRIER'] = Treinamento['OP_CARRIER'].astype('category')\n"
   ]
  },
  {
   "cell_type": "code",
   "execution_count": 6,
   "metadata": {},
   "outputs": [
    {
     "name": "stdout",
     "output_type": "stream",
     "text": [
      "   OP_CARRIER                Airline Name\n",
      "0          Dl             Delta Air Lines\n",
      "1          AA     American Airlines Cargo\n",
      "2          WN          Southwest Airlines\n",
      "3          OO            SkyWest Airlines\n",
      "4          UA       United Airlines Cargo\n",
      "5          YX            Midwest Airlines\n",
      "6          MQ                   Envoy air\n",
      "7          B6                     JetBlue\n",
      "8          9E                    Endeavor\n",
      "9          AS             Alaska Airlines\n",
      "10         YV               Mesa Airlines\n",
      "11         NK             Spirit Airlines\n",
      "12         EV  Atlatic Southeast Airlines\n",
      "13         F9             FRONTIER FLIGHT\n",
      "14         G4               Allegiant Air\n",
      "15         HA           Hawaiian Airlines\n",
      "16         OH     Comair Delta Connection\n"
     ]
    }
   ],
   "source": [
    "Comparador = pd.read_csv('Pasta1.csv')\n",
    "print(Comparador)"
   ]
  },
  {
   "cell_type": "code",
   "execution_count": 7,
   "metadata": {},
   "outputs": [],
   "source": [
    "Treinamento['OP_CARRIER'].cat.categories = [' Endeavor','American Airlines Cargo','Alaska Airlines','JetBlue','Delta Air Lines','Atlatic Southeast Airlines','Frontier Flight','Allegiant Air','Hawaiian Airlines','Envoy Air','Spirit Airlines','Comair Delta Connection','SkyWest Airlines','United Airlines Cargo','Southwest Airlines','Mesa Airlines','Midwest Airlines']"
   ]
  },
  {
   "cell_type": "code",
   "execution_count": 8,
   "metadata": {},
   "outputs": [
    {
     "data": {
      "text/html": [
       "<div>\n",
       "<style scoped>\n",
       "    .dataframe tbody tr th:only-of-type {\n",
       "        vertical-align: middle;\n",
       "    }\n",
       "\n",
       "    .dataframe tbody tr th {\n",
       "        vertical-align: top;\n",
       "    }\n",
       "\n",
       "    .dataframe thead th {\n",
       "        text-align: right;\n",
       "    }\n",
       "</style>\n",
       "<table border=\"1\" class=\"dataframe\">\n",
       "  <thead>\n",
       "    <tr style=\"text-align: right;\">\n",
       "      <th></th>\n",
       "      <th>OP_CARRIER</th>\n",
       "      <th>ORIGIN</th>\n",
       "      <th>DEST</th>\n",
       "      <th>ARR_DEL15</th>\n",
       "      <th>CANCELLED</th>\n",
       "      <th>DISTANCE</th>\n",
       "      <th>Ano</th>\n",
       "    </tr>\n",
       "  </thead>\n",
       "  <tbody>\n",
       "    <tr>\n",
       "      <th>1170377</th>\n",
       "      <td>SkyWest Airlines</td>\n",
       "      <td>OMA</td>\n",
       "      <td>DEN</td>\n",
       "      <td>0.0</td>\n",
       "      <td>0.0</td>\n",
       "      <td>472.0</td>\n",
       "      <td>2019</td>\n",
       "    </tr>\n",
       "    <tr>\n",
       "      <th>352401</th>\n",
       "      <td>SkyWest Airlines</td>\n",
       "      <td>ORD</td>\n",
       "      <td>MKE</td>\n",
       "      <td>0.0</td>\n",
       "      <td>0.0</td>\n",
       "      <td>67.0</td>\n",
       "      <td>2020</td>\n",
       "    </tr>\n",
       "    <tr>\n",
       "      <th>1141010</th>\n",
       "      <td>Midwest Airlines</td>\n",
       "      <td>MIA</td>\n",
       "      <td>PIT</td>\n",
       "      <td>1.0</td>\n",
       "      <td>0.0</td>\n",
       "      <td>1013.0</td>\n",
       "      <td>2019</td>\n",
       "    </tr>\n",
       "    <tr>\n",
       "      <th>715363</th>\n",
       "      <td>Spirit Airlines</td>\n",
       "      <td>FLL</td>\n",
       "      <td>EWR</td>\n",
       "      <td>0.0</td>\n",
       "      <td>0.0</td>\n",
       "      <td>1065.0</td>\n",
       "      <td>2019</td>\n",
       "    </tr>\n",
       "    <tr>\n",
       "      <th>520524</th>\n",
       "      <td>SkyWest Airlines</td>\n",
       "      <td>ORD</td>\n",
       "      <td>CMX</td>\n",
       "      <td>0.0</td>\n",
       "      <td>0.0</td>\n",
       "      <td>360.0</td>\n",
       "      <td>2020</td>\n",
       "    </tr>\n",
       "  </tbody>\n",
       "</table>\n",
       "</div>"
      ],
      "text/plain": [
       "               OP_CARRIER ORIGIN DEST  ARR_DEL15  CANCELLED  DISTANCE   Ano\n",
       "1170377  SkyWest Airlines    OMA  DEN        0.0        0.0     472.0  2019\n",
       "352401   SkyWest Airlines    ORD  MKE        0.0        0.0      67.0  2020\n",
       "1141010  Midwest Airlines    MIA  PIT        1.0        0.0    1013.0  2019\n",
       "715363    Spirit Airlines    FLL  EWR        0.0        0.0    1065.0  2019\n",
       "520524   SkyWest Airlines    ORD  CMX        0.0        0.0     360.0  2020"
      ]
     },
     "execution_count": 8,
     "metadata": {},
     "output_type": "execute_result"
    }
   ],
   "source": [
    "Treinamento.head(5)"
   ]
  },
  {
   "cell_type": "code",
   "execution_count": 9,
   "metadata": {},
   "outputs": [
    {
     "name": "stdout",
     "output_type": "stream",
     "text": [
      "16608\n"
     ]
    },
    {
     "data": {
      "text/plain": [
       "OP_CARRIER        0\n",
       "ORIGIN            0\n",
       "DEST              0\n",
       "ARR_DEL15     16608\n",
       "CANCELLED         0\n",
       "DISTANCE          0\n",
       "Ano               0\n",
       "dtype: int64"
      ]
     },
     "execution_count": 9,
     "metadata": {},
     "output_type": "execute_result"
    }
   ],
   "source": [
    "Cancelados = Treinamento['CANCELLED'] == 1\n",
    "Voo_cancelados = Treinamento.loc[Cancelados,:]\n",
    "print(len(Voo_cancelados))\n",
    "Voo_cancelados.isnull().sum()\n"
   ]
  },
  {
   "cell_type": "code",
   "execution_count": 10,
   "metadata": {},
   "outputs": [
    {
     "data": {
      "image/png": "[encoded data removed]",
      "text/plain": [
       "<Figure size 324x324 with 12 Axes>"
      ]
     },
     "metadata": {
      "needs_background": "light"
     },
     "output_type": "display_data"
    }
   ],
   "source": [
    "# REGRESSÃO MULTIPLA DE TESTE\n",
    "from mpl_toolkits.mplot3d import Axes3D\n",
    "from IPython.display import display\n",
    "import seaborn as sns\n",
    "\n",
    "\n",
    "sns.pairplot(Treinamento, height=1.5); # Cruza todas as variáveis entre sí, dá maneira que elas precisam sendo quantitativas\n",
    "#Treinamento.columns\n",
    "\n"
   ]
  },
  {
   "cell_type": "code",
   "execution_count": 14,
   "metadata": {},
   "outputs": [
    {
     "data": {
      "image/png": "[encoded data removed]",
      "text/plain": [
       "<Figure size 432x288 with 1 Axes>"
      ]
     },
     "metadata": {
      "needs_background": "light"
     },
     "output_type": "display_data"
    },
    {
     "data": {
      "image/png": "[encoded data removed]",
      "text/plain": [
       "<Figure size 432x288 with 1 Axes>"
      ]
     },
     "metadata": {
      "needs_background": "light"
     },
     "output_type": "display_data"
    },
    {
     "data": {
      "image/png": "[encoded data removed]",
      "text/plain": [
       "<Figure size 432x288 with 1 Axes>"
      ]
     },
     "metadata": {
      "needs_background": "light"
     },
     "output_type": "display_data"
    }
   ],
   "source": [
    "# CRUZAMENTO DE QUALITATIVAS CM QUALITATIVAS\n",
    "# Cia X Cancelados\n",
    "cia_canc = pd.crosstab(Treinamento['OP_CARRIER'], Treinamento['CANCELLED'], normalize='index',margins=True).round(3)*100\n",
    "cia_canc.plot.bar()\n",
    "plt.ylabel('Voos Cancelados')\n",
    "plt.xlabel('Cia Aérea')\n",
    "plt.legend(loc='center')\n",
    "plt.legend(bbox_to_anchor=(1.05, 0.95)); # Coloca legenda para fora da janela gráfica\n",
    "plt.show()\n",
    "\n",
    "# Destino X Cancelados\n",
    "dest_canc = pd.crosstab(Treinamento['DEST'], Treinamento['CANCELLED'], normalize='index',margins=True).round(3)*100\n",
    "dest_canc.plot.bar()\n",
    "plt.ylabel('Voos Cancelados')\n",
    "plt.xlabel('Destino')\n",
    "plt.legend(loc='center')\n",
    "plt.legend(bbox_to_anchor=(1.05, 0.95)); # Coloca legenda para fora da janela gráfica\n",
    "plt.show()\n",
    "\n",
    "# Origem X Cancelados\n",
    "org_canc = pd.crosstab(Treinamento['ORIGIN'], Treinamento['CANCELLED'], normalize='index',margins=True).round(3)*100\n",
    "org_canc.plot.bar()\n",
    "plt.ylabel('Voos Cancelados')\n",
    "plt.xlabel('Origem')\n",
    "plt.legend(loc='center')\n",
    "plt.legend(bbox_to_anchor=(1.05, 0.95)); # Coloca legenda para fora da janela gráfica\n",
    "plt.show()\n"
   ]
  },
  {
   "cell_type": "code",
   "execution_count": 17,
   "metadata": {},
   "outputs": [
    {
     "data": {
      "text/html": [
       "<div>\n",
       "<style scoped>\n",
       "    .dataframe tbody tr th:only-of-type {\n",
       "        vertical-align: middle;\n",
       "    }\n",
       "\n",
       "    .dataframe tbody tr th {\n",
       "        vertical-align: top;\n",
       "    }\n",
       "\n",
       "    .dataframe thead th {\n",
       "        text-align: right;\n",
       "    }\n",
       "</style>\n",
       "<table border=\"1\" class=\"dataframe\">\n",
       "  <thead>\n",
       "    <tr style=\"text-align: right;\">\n",
       "      <th></th>\n",
       "      <th>ARR_DEL15</th>\n",
       "      <th>CANCELLED</th>\n",
       "      <th>DISTANCE</th>\n",
       "    </tr>\n",
       "  </thead>\n",
       "  <tbody>\n",
       "    <tr>\n",
       "      <th>ARR_DEL15</th>\n",
       "      <td>1.00000</td>\n",
       "      <td>NaN</td>\n",
       "      <td>0.006990</td>\n",
       "    </tr>\n",
       "    <tr>\n",
       "      <th>CANCELLED</th>\n",
       "      <td>NaN</td>\n",
       "      <td>1.000000</td>\n",
       "      <td>-0.040538</td>\n",
       "    </tr>\n",
       "    <tr>\n",
       "      <th>DISTANCE</th>\n",
       "      <td>0.00699</td>\n",
       "      <td>-0.040538</td>\n",
       "      <td>1.000000</td>\n",
       "    </tr>\n",
       "  </tbody>\n",
       "</table>\n",
       "</div>"
      ],
      "text/plain": [
       "           ARR_DEL15  CANCELLED  DISTANCE\n",
       "ARR_DEL15    1.00000        NaN  0.006990\n",
       "CANCELLED        NaN   1.000000 -0.040538\n",
       "DISTANCE     0.00699  -0.040538  1.000000"
      ]
     },
     "execution_count": 17,
     "metadata": {},
     "output_type": "execute_result"
    }
   ],
   "source": [
    "Treinamento.corr()\n"
   ]
  },
  {
   "cell_type": "markdown",
   "metadata": {},
   "source": [
    "MODELO DE PREDIÇÃO - RESULTADOS"
   ]
  },
  {
   "cell_type": "code",
   "execution_count": null,
   "metadata": {},
   "outputs": [],
   "source": []
  },
  {
   "cell_type": "markdown",
   "metadata": {},
   "source": [
    "VALIDAÇÃO DOS RESULTADOS"
   ]
  },
  {
   "cell_type": "code",
   "execution_count": 12,
   "metadata": {},
   "outputs": [],
   "source": [
    "# código de validação de resultados "
   ]
  }
 ],
 "metadata": {
  "kernelspec": {
   "display_name": "Python 3.10.4 64-bit",
   "language": "python",
   "name": "python3"
  },
  "language_info": {
   "codemirror_mode": {
    "name": "ipython",
    "version": 3
   },
   "file_extension": ".py",
   "mimetype": "text/x-python",
   "name": "python",
   "nbconvert_exporter": "python",
   "pygments_lexer": "ipython3",
   "version": "3.10.4"
  },
  "orig_nbformat": 4,
  "vscode": {
   "interpreter": {
    "hash": "cdcf8f726040b12d3568ceac60b6ca4b3e4ab6e019e8147e37d5985e50983e9a"
   }
  }
 },
 "nbformat": 4,
 "nbformat_minor": 2
}
